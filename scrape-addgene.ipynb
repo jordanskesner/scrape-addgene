{
 "cells": [
  {
   "cell_type": "code",
   "execution_count": 2,
   "id": "f3097886-5ae8-40df-914f-36d55bf146c5",
   "metadata": {},
   "outputs": [],
   "source": [
    "# Installs\n",
    "# pip install selenium\n",
    "\n",
    "# ChromeDriver download\n",
    "# https://storage.googleapis.com/chrome-for-testing-public/131.0.6778.264/win64/chromedriver-win64.zip\n",
    "\n",
    "# Imports\n",
    "from selenium import webdriver\n",
    "from selenium.webdriver.chrome.service import Service\n",
    "from selenium.webdriver.common.by import By\n",
    "from selenium.webdriver.common.keys import Keys\n",
    "import time"
   ]
  },
  {
   "cell_type": "code",
   "execution_count": 6,
   "id": "ad49807d-fb1c-4d92-8100-a5a35d57de6b",
   "metadata": {},
   "outputs": [],
   "source": [
    "# Initialize driver \n",
    "# Specify the path to your chromedriver\n",
    "#driver_path = \"C://Users//jsk33//OneDrive//Github//scrape-addgene//chromedriver-win64//chromedriver.exe\"  # Replace with the actual path to the WebDriver\n",
    "driver_path = \".//chromedriver-win64//chromedriver.exe\"\n",
    "service = Service(driver_path)\n",
    "\n",
    "# Initialize WebDriver\n",
    "#driver = webdriver.Chrome(service=service)"
   ]
  },
  {
   "cell_type": "code",
   "execution_count": null,
   "id": "2a01db2a-7300-4e7d-833f-660d7ade6f25",
   "metadata": {},
   "outputs": [],
   "source": [
    "#\n",
    "try:\n",
    "\n",
    "    # Initialize WebDriver\n",
    "    driver = webdriver.Chrome(service=service)\n",
    "    \n",
    "    # Open the target website\n",
    "    url = 'https://www.addgene.org/'  # Replace with the website you want to scrape\n",
    "    driver.get(url)\n",
    "    \n",
    "    # Wait for the page to load\n",
    "    time.sleep(5)  # Adjust based on the website's loading speed\n",
    " \n",
    "    # Locate the search bar element (e.g., by name, id, class, or CSS selector)\n",
    "    # <input form=\"search-bar\" id=\"search-text-input\" class=\"suggest-input\" aria-expanded=\"false\" aria-haspopup=\"listbox\" type=\"text\" role=\"combobox\" autocomplete=\"off\" placeholder=\"e.g. 74218, Cas9, transformation protocol\" name=\"q\" aria-owns=\"awesomplete_list_2\">\n",
    "    search_bar = driver.find_element(By.ID, 'search-text-input')  # Replace 'q' with the name of the search input field\n",
    "    \n",
    "    # Enter text into the search bar\n",
    "    search_text = \"GFP\"  # Replace with the text you want to enter\n",
    "    search_bar.send_keys(search_text)\n",
    "    \n",
    "    # Submit the search (if needed, e.g., by pressing Enter)\n",
    "    search_bar.send_keys(Keys.RETURN)\n",
    "    \n",
    "    # Wait for the results to load\n",
    "    time.sleep(5)\n",
    "\n",
    "    # Select the plasmids subcategory\n",
    "    inplasmids_bar = driver.find_element(By.XPATH, \"//span[@class='leaf-label' and text()='in Plasmids']\")\n",
    "    # click it\n",
    "    inplasmids_bar.click()\n",
    "\n",
    "    # Wait for the results to load\n",
    "    time.sleep(5)\n",
    "\n",
    "    # Optional: Print the title of the resulting page\n",
    "    print(driver.title)\n",
    "    \n",
    "finally:\n",
    "    # Close the WebDriver\n",
    "    driver.quit()\n"
   ]
  },
  {
   "cell_type": "code",
   "execution_count": null,
   "id": "7422dd3e-c40e-4230-a1fb-b2e1b7bff15c",
   "metadata": {},
   "outputs": [],
   "source": [
    "\n",
    "\n",
    "\n",
    "<span class=\"leaf-label\">in Plasmids</span>"
   ]
  },
  {
   "cell_type": "code",
   "execution_count": null,
   "id": "fe0d2b2e-431a-4e32-ba25-55e8060bee33",
   "metadata": {},
   "outputs": [],
   "source": [
    "\n",
    "\n",
    "\n",
    "try:\n",
    "    # Open the target website\n",
    "    url = 'https://example.com'  # Replace with the website you want to scrape\n",
    "    driver.get(url)\n",
    "    \n",
    "    # Wait for the page to load\n",
    "    time.sleep(2)\n",
    "    \n",
    "    # Example: Find an element by its tag name\n",
    "    links = driver.find_elements(By.TAG_NAME, 'a')\n",
    "    for link in links:\n",
    "        print(link.text, link.get_attribute('href'))\n",
    "    \n",
    "finally:\n",
    "    # Close the WebDriver\n",
    "    driver.quit()\n"
   ]
  }
 ],
 "metadata": {
  "kernelspec": {
   "display_name": "Python 3 (ipykernel)",
   "language": "python",
   "name": "python3"
  },
  "language_info": {
   "codemirror_mode": {
    "name": "ipython",
    "version": 3
   },
   "file_extension": ".py",
   "mimetype": "text/x-python",
   "name": "python",
   "nbconvert_exporter": "python",
   "pygments_lexer": "ipython3",
   "version": "3.11.7"
  }
 },
 "nbformat": 4,
 "nbformat_minor": 5
}
