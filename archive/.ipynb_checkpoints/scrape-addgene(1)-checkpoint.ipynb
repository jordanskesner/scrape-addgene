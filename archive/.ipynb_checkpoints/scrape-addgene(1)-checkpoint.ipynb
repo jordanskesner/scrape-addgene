{
 "cells": [
  {
   "cell_type": "code",
   "execution_count": 1,
   "id": "f3097886-5ae8-40df-914f-36d55bf146c5",
   "metadata": {},
   "outputs": [],
   "source": [
    "#### Installs ####\n",
    "# perform in terminal:\n",
    "# pip install selenium\n",
    "\n",
    "# ChromeDriver download\n",
    "# https://storage.googleapis.com/chrome-for-testing-public/131.0.6778.264/win64/chromedriver-win64.zip\n",
    "\n",
    "# Imports\n",
    "from selenium import webdriver\n",
    "from selenium.webdriver.chrome.service import Service\n",
    "from selenium.webdriver.common.by import By\n",
    "from selenium.webdriver.common.keys import Keys\n",
    "import time\n",
    "import re\n",
    "import sqlite3\n",
    "from pathlib import Path\n",
    "import string\n",
    "import my_utils\n",
    "import random\n",
    "import os"
   ]
  },
  {
   "cell_type": "code",
   "execution_count": 2,
   "id": "ad49807d-fb1c-4d92-8100-a5a35d57de6b",
   "metadata": {},
   "outputs": [],
   "source": [
    "# Initialize driver \n",
    "# Specify the path to your chromedriver\n",
    "# NOTE: likely to throw errors if chromedriver and chrome versions differ\n",
    "# current chrome version: Version 135.0.7049.42 (Official Build) (64-bit)\n",
    "# to download most recent chrome driver, go to: https://googlechromelabs.github.io/chrome-for-testing/\n",
    "# https://storage.googleapis.com/chrome-for-testing-public/135.0.7049.42/win64/chromedriver-win64.zip\n",
    "#driver_path = \"C://Users//jsk33//OneDrive//Github//scrape-addgene//chromedriver-win64//chromedriver.exe\"  # Replace with the actual path to the WebDriver\n",
    "driver_path = \".//chromedriver-win64//chromedriver-win64//chromedriver.exe\"\n",
    "service = Service(driver_path)\n",
    "\n",
    "# Initialize WebDriver\n",
    "#driver = webdriver.Chrome(service=service)"
   ]
  },
  {
   "cell_type": "code",
   "execution_count": 3,
   "id": "54be8935-b774-4cb4-a109-26c76aa515da",
   "metadata": {},
   "outputs": [
    {
     "name": "stdout",
     "output_type": "stream",
     "text": [
      "File 'addgene_database.db' already exists.\n"
     ]
    }
   ],
   "source": [
    "# create database if doesnt exist\n",
    "# instantiate\n",
    "\n",
    "# path to database file\n",
    "db_path = Path(\"addgene_database.db\")\n",
    "\n",
    "# check if file exists, if not, create it\n",
    "if not db_path.is_file():\n",
    "    print(f\"File '{db_path}' does not exist. Creating database file...\")\n",
    "    conn = sqlite3.connect('addgene_database.db')\n",
    "else:\n",
    "    print(f\"File '{db_path}' already exists.\")\n",
    "    conn = sqlite3.connect('addgene_database.db')\n",
    "\n",
    "#\n",
    "#cursor = conn.cursor()\n",
    "\n",
    "# Create table\n",
    "#cursor.execute('''CREATE TABLE users (id INTEGER PRIMARY KEY, name TEXT, age INTEGER)''')\n",
    "\n",
    "# Insert a row\n",
    "#cursor.execute('INSERT INTO users (name, age) VALUES (?, ?)', ('Alice', 25))\n",
    "\n",
    "# Query data\n",
    "#cursor.execute('SELECT * FROM users')\n",
    "#print(cursor.fetchall())\n",
    "\n",
    "#conn.commit()\n",
    "#conn.close()\n"
   ]
  },
  {
   "cell_type": "code",
   "execution_count": 4,
   "id": "37e294d1-8f8a-4bef-bbb2-000a32de20d0",
   "metadata": {},
   "outputs": [],
   "source": [
    "#### A list that will contain the 5-6 digit IDs of the plasmids\n",
    "target_plasmid_IDs = []\n",
    "\n",
    "# Define a basic set of keyboard characters\n",
    "keyboard_chars = string.ascii_letters + string.digits + string.punctuation + ' '"
   ]
  },
  {
   "cell_type": "code",
   "execution_count": 5,
   "id": "270026a4-ebcb-47b7-b037-54d8784a212a",
   "metadata": {},
   "outputs": [],
   "source": [
    "#### Save IDs after scanning\n",
    "#print(target_plasmid_IDs[:10])\n",
    "#print(len(target_plasmid_IDs))\n",
    "\n",
    "## save the IDs to a file\n",
    "#out_file = \"./addgene_plasmid_IDs.txt\"\n",
    "#with open(out_file, 'w') as f:\n",
    "#    for ID in sorted(target_plasmid_IDs):\n",
    "#        f.write(ID + '\\n')"
   ]
  },
  {
   "cell_type": "code",
   "execution_count": 6,
   "id": "527adb8d-b160-4cfc-9ecd-98f50ad8d049",
   "metadata": {},
   "outputs": [
    {
     "name": "stdout",
     "output_type": "stream",
     "text": [
      "⚠️ File already exists: ./shuffled_parameters.txt\n"
     ]
    }
   ],
   "source": [
    "#### Set search parameters\n",
    "\n",
    "## read the list of terms in\n",
    "search_par_file = \"./combined_search_parameters.txt\"\n",
    "search_par = set()\n",
    "\n",
    "# automatically deduplicated\n",
    "with open(search_par_file, 'r') as f:\n",
    "        lines = [line.strip() for line in f if line.strip()]\n",
    "        search_par.update(lines)\n",
    "\n",
    "# convert to list and randomize to improve search efficiency\n",
    "shuffled_par = random.sample(list(search_par), k=len(search_par))\n",
    "\n",
    "## write randomized parameters to file\n",
    "shuffled_path = \"./shuffled_parameters.txt\"\n",
    "\n",
    "if not os.path.exists(shuffled_path):\n",
    "    with open(shuffled_path, \"w\") as f:\n",
    "        for item in shuffled_par:\n",
    "            f.write(item + \"\\n\")\n",
    "    print(f\"✅ File created: {shuffled_path}\")\n",
    "else:\n",
    "    print(f\"⚠️ File already exists: {shuffled_path}\")"
   ]
  },
  {
   "cell_type": "code",
   "execution_count": 7,
   "id": "f3827eaa-8736-44ba-9a4b-a0c162662f4f",
   "metadata": {},
   "outputs": [
    {
     "name": "stdout",
     "output_type": "stream",
     "text": [
      "Called scan_addgene function with 239227 parameters. \n",
      "\n",
      "Saving progress to ./scan_addgene_progress.txt\n",
      "Saving results to ./addgene_IDs.txt\n",
      "Checking if output file exists\n",
      "⚠️ Already exists: ./addgene_IDs.txt\n",
      "Resuming from index 239227\n",
      "Operation complete.\n"
     ]
    }
   ],
   "source": [
    "#=== Scan again using the combined search parameters including model organism gene names and snapgene common features ===#\n",
    "\n",
    "## read the list of terms in\n",
    "shuffled_path = \"./shuffled_parameters.txt\"\n",
    "shuffled_par = []\n",
    "with open(shuffled_path, 'r') as f:\n",
    "        lines = [line.strip() for line in f if line.strip()]\n",
    "        shuffled_par.extend(lines)\n",
    "\n",
    "####\n",
    "my_utils.scan_addgene(shuffled_par)\n"
   ]
  },
  {
   "cell_type": "code",
   "execution_count": 8,
   "id": "dc459225-7861-4e02-b0c4-51aab4a6829f",
   "metadata": {},
   "outputs": [],
   "source": [
    "#### Once search for IDs is complete, deduplicate, sort, and output final file\n",
    "## Save results\n",
    "raw_file = \"./addgene_IDs.txt\"\n",
    "raw_IDs = set()\n",
    "\n",
    "# \n",
    "with open(raw_file, 'r') as f:\n",
    "        lines = [line.strip() for line in f if line.strip()]\n",
    "        raw_IDs.update(lines)\n",
    "\n",
    "# convert to list and randomize to improve search efficiency\n",
    "dedup_sorted_IDs = sorted(list(raw_IDs))\n",
    "\n",
    "## write randomized parameters to file\n",
    "dedup_IDs_file = \"./final_addgene_IDs.txt\"\n",
    "\n",
    "if not os.path.exists(dedup_IDs_file):\n",
    "    with open(dedup_IDs_file, \"w\") as f:\n",
    "        for item in dedup_sorted_IDs:\n",
    "            f.write(item + \"\\n\")"
   ]
  },
  {
   "cell_type": "markdown",
   "id": "149b75af-cd60-4e63-b400-7fa4efc46b5d",
   "metadata": {},
   "source": [
    "###### test\n",
    "\n",
    "## read in the plasmid IDs\n",
    "final_IDs_path = \"./final_addgene_IDs.txt\"\n",
    "plasmid_IDs = []\n",
    "with open(final_IDs_path, 'r') as f:\n",
    "        lines = [line.strip() for line in f if line.strip()]\n",
    "        plasmid_IDs.extend(lines)\n",
    "\n",
    "#\n",
    "my_utils.scrape_plasmid_data(plasmid_IDs)\n"
   ]
  }
 ],
 "metadata": {
  "kernelspec": {
   "display_name": "Python 3 (ipykernel)",
   "language": "python",
   "name": "python3"
  },
  "language_info": {
   "codemirror_mode": {
    "name": "ipython",
    "version": 3
   },
   "file_extension": ".py",
   "mimetype": "text/x-python",
   "name": "python",
   "nbconvert_exporter": "python",
   "pygments_lexer": "ipython3",
   "version": "3.10.0"
  }
 },
 "nbformat": 4,
 "nbformat_minor": 5
}
