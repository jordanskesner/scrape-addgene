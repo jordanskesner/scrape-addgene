{
 "cells": [
  {
   "cell_type": "code",
   "execution_count": null,
   "id": "5ff11b50-36fd-44cf-9e92-d0d5f215fd72",
   "metadata": {},
   "outputs": [],
   "source": [
    "#### Compile a dictionary of molecular biology, medical, species names, gene names, etc to be used in the search parameters of the addgene website\n",
    "#### Note: for stuff like this, store in the 0.local folder so doesnt gunk up github (or use gitignore)\n",
    "\n",
    "## Installs\n",
    "# in terminal:\n",
    "# pip install pybiomart\n",
    "# for progress bar:\n",
    "# pip install tqdm"
   ]
  },
  {
   "cell_type": "code",
   "execution_count": 1,
   "id": "501b3c31-434c-485a-b11f-88a1b42f3b5a",
   "metadata": {},
   "outputs": [],
   "source": [
    "#### Imports\n",
    "from pybiomart import Server\n",
    "import requests\n",
    "import gzip\n",
    "import shutil\n",
    "import re\n",
    "import os\n",
    "from tqdm import tqdm\n",
    "from pathlib import Path"
   ]
  },
  {
   "cell_type": "code",
   "execution_count": 4,
   "id": "2364f9bd-c935-4e36-aadb-20a86129a420",
   "metadata": {},
   "outputs": [
    {
     "name": "stdout",
     "output_type": "stream",
     "text": [
      "\n",
      "⬇️ Downloading Homo sapiens GTF...\n"
     ]
    },
    {
     "name": "stderr",
     "output_type": "stream",
     "text": [
      "hsapiens: 100%|██████████████████████████████| 51.8M/51.8M [00:00<00:00, 1.25GB/s]\n"
     ]
    },
    {
     "name": "stdout",
     "output_type": "stream",
     "text": [
      "✅ Saved 40874 gene symbols to ../0.local/scrape-addgene/gene-symbols/hsapiens_gene_symbols.txt\n",
      "\n",
      "⬇️ Downloading Mus musculus GTF...\n"
     ]
    },
    {
     "name": "stderr",
     "output_type": "stream",
     "text": [
      "mmusculus: 100%|█████████████████████████████| 30.8M/30.8M [00:00<00:00, 1.24GB/s]\n"
     ]
    },
    {
     "name": "stdout",
     "output_type": "stream",
     "text": [
      "✅ Saved 56481 gene symbols to ../0.local/scrape-addgene/gene-symbols/mmusculus_gene_symbols.txt\n",
      "\n",
      "⬇️ Downloading Rattus norvegicus GTF...\n"
     ]
    },
    {
     "name": "stderr",
     "output_type": "stream",
     "text": [
      "rnorvegicus: 100%|███████████████████████████| 17.3M/17.3M [00:00<00:00, 1.21GB/s]\n"
     ]
    },
    {
     "name": "stdout",
     "output_type": "stream",
     "text": [
      "✅ Saved 25882 gene symbols to ../0.local/scrape-addgene/gene-symbols/rnorvegicus_gene_symbols.txt\n",
      "\n",
      "⬇️ Downloading Danio rerio GTF...\n"
     ]
    },
    {
     "name": "stderr",
     "output_type": "stream",
     "text": [
      "drerio: 100%|████████████████████████████████| 17.2M/17.2M [00:00<00:00, 1.22GB/s]\n"
     ]
    },
    {
     "name": "stdout",
     "output_type": "stream",
     "text": [
      "✅ Saved 17835 gene symbols to ../0.local/scrape-addgene/gene-symbols/drerio_gene_symbols.txt\n",
      "\n",
      "⬇️ Downloading Xenopus tropicalis GTF...\n"
     ]
    },
    {
     "name": "stderr",
     "output_type": "stream",
     "text": [
      "xtropicalis: 100%|███████████████████████████| 17.7M/17.7M [00:00<00:00, 1.09GB/s]\n"
     ]
    },
    {
     "name": "stdout",
     "output_type": "stream",
     "text": [
      "✅ Saved 15043 gene symbols to ../0.local/scrape-addgene/gene-symbols/xtropicalis_gene_symbols.txt\n",
      "\n",
      "⬇️ Downloading Caenorhabditis elegans GTF...\n"
     ]
    },
    {
     "name": "stderr",
     "output_type": "stream",
     "text": [
      "celegans: 100%|███████████████████████████████| 8.33M/8.33M [00:00<00:00, 447MB/s]\n"
     ]
    },
    {
     "name": "stdout",
     "output_type": "stream",
     "text": [
      "✅ Saved 44160 gene symbols to ../0.local/scrape-addgene/gene-symbols/celegans_gene_symbols.txt\n",
      "\n",
      "⬇️ Downloading Drosophila melanogaster GTF...\n"
     ]
    },
    {
     "name": "stderr",
     "output_type": "stream",
     "text": [
      "dmelanogaster: 100%|█████████████████████████| 6.80M/6.80M [00:00<00:00, 1.38GB/s]\n"
     ]
    },
    {
     "name": "stdout",
     "output_type": "stream",
     "text": [
      "✅ Saved 23793 gene symbols to ../0.local/scrape-addgene/gene-symbols/dmelanogaster_gene_symbols.txt\n",
      "\n",
      "⬇️ Downloading Saccharomyces cerevisiae GTF...\n"
     ]
    },
    {
     "name": "stderr",
     "output_type": "stream",
     "text": [
      "scerevisiae: 100%|█████████████████████████████████████| 581k/581k [00:00<?, ?B/s]\n"
     ]
    },
    {
     "name": "stdout",
     "output_type": "stream",
     "text": [
      "✅ Saved 5160 gene symbols to ../0.local/scrape-addgene/gene-symbols/scerevisiae_gene_symbols.txt\n",
      "\n",
      "⬇️ Downloading Schizosaccharomyces pombe GTF...\n"
     ]
    },
    {
     "name": "stderr",
     "output_type": "stream",
     "text": [
      "spombe: 100%|███████████████████████████████████| 768k/768k [00:00<00:00, 230MB/s]"
     ]
    },
    {
     "name": "stdout",
     "output_type": "stream",
     "text": [
      "✅ Saved 4575 gene symbols to ../0.local/scrape-addgene/gene-symbols/spombe_gene_symbols.txt"
     ]
    },
    {
     "name": "stderr",
     "output_type": "stream",
     "text": [
      "\n"
     ]
    },
    {
     "name": "stdout",
     "output_type": "stream",
     "text": [
      "\n",
      "\n",
      "⬇️ Downloading Arabidopsis thaliana GTF...\n"
     ]
    },
    {
     "name": "stderr",
     "output_type": "stream",
     "text": [
      "athaliana: 100%|█████████████████████████████| 10.7M/10.7M [00:00<00:00, 1.31GB/s]\n"
     ]
    },
    {
     "name": "stdout",
     "output_type": "stream",
     "text": [
      "✅ Saved 31715 gene symbols to ../0.local/scrape-addgene/gene-symbols/athaliana_gene_symbols.txt\n",
      "\n",
      "⬇️ Downloading Ecoli GTF...\n"
     ]
    },
    {
     "name": "stderr",
     "output_type": "stream",
     "text": [
      "ecoli: 100%|███████████████████████████████████████████| 374k/374k [00:00<?, ?B/s]"
     ]
    },
    {
     "name": "stdout",
     "output_type": "stream",
     "text": [
      "✅ Saved 4355 gene symbols to ../0.local/scrape-addgene/gene-symbols/ecoli_gene_symbols.txt\n"
     ]
    },
    {
     "name": "stderr",
     "output_type": "stream",
     "text": [
      "\n"
     ]
    }
   ],
   "source": [
    "#==== Import species gene symbols from ensembl ====#\n",
    "\n",
    "## define target species info \n",
    "species_info = [\n",
    "    # Ensembl\n",
    "    {\n",
    "        \"name\": \"Homo sapiens\",\n",
    "        \"filename\": \"hsapiens\",\n",
    "        \"url\": \"http://ftp.ensembl.org/pub/release-110/gtf/homo_sapiens/Homo_sapiens.GRCh38.110.gtf.gz\"\n",
    "    },\n",
    "    {\n",
    "        \"name\": \"Mus musculus\",\n",
    "        \"filename\": \"mmusculus\",\n",
    "        \"url\": \"http://ftp.ensembl.org/pub/release-110/gtf/mus_musculus/Mus_musculus.GRCm39.110.gtf.gz\"\n",
    "    },\n",
    "    {\n",
    "        \"name\": \"Rattus norvegicus\",\n",
    "        \"filename\": \"rnorvegicus\",\n",
    "        \"url\": \"http://ftp.ensembl.org/pub/release-110/gtf/rattus_norvegicus/Rattus_norvegicus.mRatBN7.2.110.gtf.gz\"\n",
    "    },\n",
    "    {\n",
    "        \"name\": \"Danio rerio\",\n",
    "        \"filename\": \"drerio\",\n",
    "        \"url\": \"http://ftp.ensembl.org/pub/release-110/gtf/danio_rerio/Danio_rerio.GRCz11.110.gtf.gz\"\n",
    "    },\n",
    "    {\n",
    "        \"name\": \"Xenopus tropicalis\",\n",
    "        \"filename\": \"xtropicalis\",\n",
    "        \"url\": \"http://ftp.ensembl.org/pub/release-110/gtf/xenopus_tropicalis/Xenopus_tropicalis.UCB_Xtro_10.0.110.gtf.gz\"\n",
    "    },\n",
    "\n",
    "    # Ensembl Metazoa\n",
    "    {\n",
    "        \"name\": \"Caenorhabditis elegans\",\n",
    "        \"filename\": \"celegans\",\n",
    "        \"url\": \"http://ftp.ensemblgenomes.org/pub/metazoa/release-60/gtf/caenorhabditis_elegans/Caenorhabditis_elegans.WBcel235.60.gtf.gz\"\n",
    "    },\n",
    "    {\n",
    "        \"name\": \"Drosophila melanogaster\",\n",
    "        \"filename\": \"dmelanogaster\",\n",
    "        \"url\": \"http://ftp.ensemblgenomes.org/pub/metazoa/release-60/gtf/drosophila_melanogaster/Drosophila_melanogaster.BDGP6.46.60.gtf.gz\"\n",
    "    },\n",
    "\n",
    "    # Ensembl Fungi\n",
    "    {\n",
    "        \"name\": \"Saccharomyces cerevisiae\",\n",
    "        \"filename\": \"scerevisiae\",\n",
    "        \"url\": \"http://ftp.ensemblgenomes.org/pub/fungi/release-60/gtf/saccharomyces_cerevisiae/Saccharomyces_cerevisiae.R64-1-1.60.gtf.gz\"\n",
    "    },\n",
    "    {\n",
    "        \"name\": \"Schizosaccharomyces pombe\",\n",
    "        \"filename\": \"spombe\",\n",
    "        \"url\": \"http://ftp.ensemblgenomes.org/pub/fungi/release-60/gtf/schizosaccharomyces_pombe/Schizosaccharomyces_pombe.ASM294v2.60.gtf.gz\"\n",
    "    },\n",
    "\n",
    "    # Ensembl Plants\n",
    "    {\n",
    "        \"name\": \"Arabidopsis thaliana\",\n",
    "        \"filename\": \"athaliana\",\n",
    "        \"url\": \"http://ftp.ensemblgenomes.org/pub/plants/release-60/gtf/arabidopsis_thaliana/Arabidopsis_thaliana.TAIR10.60.gtf.gz\"\n",
    "    },\n",
    "    {\n",
    "        \"name\": \"Ecoli\",\n",
    "        \"filename\": \"ecoli\",\n",
    "        \"url\": \"http://ftp.ensemblgenomes.org/pub/bacteria/release-60/gtf/bacteria_0_collection/escherichia_coli_str_k_12_substr_mg1655_gca_000005845/Escherichia_coli_str_k_12_substr_mg1655_gca_000005845.ASM584v2.60.gtf.gz\"\n",
    "    }\n",
    "]\n",
    "\n",
    "def download_and_extract_gene_symbols(info):\n",
    "    # specify output directory\n",
    "    out_dir = \"../0.local/scrape-addgene/gene-symbols/\"\n",
    "    os.makedirs(out_dir, exist_ok=True)\n",
    "\n",
    "    #\n",
    "    gz_file = f\"{info['filename']}.gtf.gz\"\n",
    "    gtf_file = f\"{info['filename']}.gtf\"\n",
    "    out_file = f\"{info['filename']}_gene_symbols.txt\"\n",
    "    #\n",
    "    gz_file = out_dir + gz_file\n",
    "    gtf_file = out_dir + gtf_file\n",
    "    out_file = out_dir + out_file\n",
    "\n",
    "    #\n",
    "    print(f\"\\n⬇️ Downloading {info['name']} GTF...\")\n",
    "    with requests.get(info['url'], stream=True) as r:\n",
    "        r.raise_for_status()\n",
    "        total_size = int(r.headers.get('content-length', 0))\n",
    "        chunk_size = 8192\n",
    "        with open(gz_file, 'wb') as f, tqdm(\n",
    "            total=total_size, unit='B', unit_scale=True, unit_divisor=1024,\n",
    "            desc=info['filename'], initial=0\n",
    "        ) as bar:\n",
    "            for chunk in r.iter_content(chunk_size=chunk_size):\n",
    "                if chunk:\n",
    "                    f.write(chunk)\n",
    "                    bar.update(len(chunk))\n",
    "\n",
    "    with gzip.open(gz_file, 'rb') as f_in, open(gtf_file, 'wb') as f_out:\n",
    "        shutil.copyfileobj(f_in, f_out)\n",
    "\n",
    "    gene_symbols = set()\n",
    "    with open(gtf_file, 'r') as f:\n",
    "        for line in f:\n",
    "            if line.startswith('#') or \"\\tgene\\t\" not in line:\n",
    "                continue\n",
    "            match = re.search(r'gene_name \"([^\"]+)\"', line)\n",
    "            if match:\n",
    "                gene_symbols.add(match.group(1))\n",
    "\n",
    "    with open(out_file, 'w') as f:\n",
    "        for gene in sorted(gene_symbols):\n",
    "            f.write(gene + '\\n')\n",
    "\n",
    "    print(f\"✅ Saved {len(gene_symbols)} gene symbols to {out_file}\")\n",
    "    os.remove(gz_file)\n",
    "    os.remove(gtf_file)\n",
    "\n",
    "# Run for all species\n",
    "for sp in species_info:\n",
    "    download_and_extract_gene_symbols(sp)\n"
   ]
  },
  {
   "cell_type": "code",
   "execution_count": null,
   "id": "5ecc45b7-22e6-4f9e-a94d-80fca112b0f1",
   "metadata": {},
   "outputs": [],
   "source": [
    "#=== Import plasmid common feature names exported from snapgene library ====#\n",
    "\n",
    "#\n",
    "#directory = Path(\"../0.local/scrape-addgene/snapgene-features/snapgene_common_features.txt\")\n",
    "#file_list = [f.name for f in directory.iterdir() if f.is_file()]\n",
    "#cleaned_list = [name.replace(\".dna\", \"\") for name in file_list]\n",
    "\n",
    "#\n",
    "#print(cleaned_list)\n",
    "\n",
    "# save to file\n",
    "#out_file = \"../0.local/scrape-addgene/snapgene-features/snapgene_common_features.txt\"\n",
    "#with open(out_file, 'w') as f:\n",
    "#    for feature in sorted(cleaned_list):\n",
    "#        f.write(feature + '\\n')\n",
    "\n",
    "#print(f\"✅ Saved {len(cleaned_list)} snapgene common features to {out_file}\")"
   ]
  },
  {
   "cell_type": "code",
   "execution_count": 5,
   "id": "6513e63d-989b-4c76-b023-8b5c7db9820c",
   "metadata": {},
   "outputs": [
    {
     "name": "stdout",
     "output_type": "stream",
     "text": [
      "✅ Saved 239227 unique search parameters to combined_search_parameters.txt\n"
     ]
    }
   ],
   "source": [
    "#=== Concatenate all files into a single file ===#\n",
    "\n",
    "##\n",
    "combined_items = []\n",
    "\n",
    "## gene names dir\n",
    "gene_dir = \"../0.local/scrape-addgene/gene-symbols/\"\n",
    "## snapgene dir\n",
    "snapgene_dir = \"../0.local/scrape-addgene/snapgene-features/\"\n",
    "\n",
    "\n",
    "#\n",
    "file_list = [\n",
    "    gene_dir + \"./athaliana_gene_symbols.txt\",\n",
    "    gene_dir + \"./celegans_gene_symbols.txt\",\n",
    "    gene_dir + \"./dmelanogaster_gene_symbols.txt\",\n",
    "    gene_dir + \"./drerio_gene_symbols.txt\",\n",
    "    gene_dir + \"./ecoli_gene_symbols.txt\",\n",
    "    gene_dir + \"./hsapiens_gene_symbols.txt\",\n",
    "    gene_dir + \"./mmusculus_gene_symbols.txt\",\n",
    "    gene_dir + \"./rnorvegicus_gene_symbols.txt\",\n",
    "    gene_dir + \"./scerevisiae_gene_symbols.txt\",\n",
    "    gene_dir + \"./spombe_gene_symbols.txt\",\n",
    "    gene_dir + \"./xtropicalis_gene_symbols.txt\",\n",
    "    snapgene_dir + \"./snapgene_common_features.txt\"\n",
    "]\n",
    "\n",
    "# use a set to remove duplicates\n",
    "combined_items = set()\n",
    "\n",
    "# Read each file\n",
    "for file_path in file_list:\n",
    "    with open(file_path, 'r') as f:\n",
    "        lines = [line.strip() for line in f if line.strip()]\n",
    "        combined_items.update(lines)\n",
    "\n",
    "# Convert set back to sorted list\n",
    "final_list = sorted(combined_items)\n",
    "\n",
    "# Save to a new file\n",
    "output_file = \"combined_search_parameters.txt\"\n",
    "with open(output_file, 'w') as f:\n",
    "    for item in final_list:\n",
    "        f.write(item + '\\n')\n",
    "\n",
    "print(f\"✅ Saved {len(final_list)} unique search parameters to {output_file}\")"
   ]
  },
  {
   "cell_type": "code",
   "execution_count": null,
   "id": "8c31ede2-9a02-4cc3-8b70-84b44f99d106",
   "metadata": {},
   "outputs": [],
   "source": []
  }
 ],
 "metadata": {
  "kernelspec": {
   "display_name": "Python 3 (ipykernel)",
   "language": "python",
   "name": "python3"
  },
  "language_info": {
   "codemirror_mode": {
    "name": "ipython",
    "version": 3
   },
   "file_extension": ".py",
   "mimetype": "text/x-python",
   "name": "python",
   "nbconvert_exporter": "python",
   "pygments_lexer": "ipython3",
   "version": "3.10.0"
  }
 },
 "nbformat": 4,
 "nbformat_minor": 5
}
